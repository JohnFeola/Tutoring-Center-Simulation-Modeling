{
 "cells": [
  {
   "cell_type": "code",
   "execution_count": 2,
   "id": "0cc65b6a",
   "metadata": {},
   "outputs": [],
   "source": [
    "import numpy as np\n",
    "import pandas as pd\n",
    "import matplotlib.pyplot as plt\n",
    "import seaborn as sns\n",
    "from datetime import datetime\n",
    "from datetime import timedelta\n",
    "from scipy import stats"
   ]
  },
  {
   "cell_type": "code",
   "execution_count": 84,
   "id": "912b38f6",
   "metadata": {},
   "outputs": [
    {
     "data": {
      "text/html": [
       "<div>\n",
       "<style scoped>\n",
       "    .dataframe tbody tr th:only-of-type {\n",
       "        vertical-align: middle;\n",
       "    }\n",
       "\n",
       "    .dataframe tbody tr th {\n",
       "        vertical-align: top;\n",
       "    }\n",
       "\n",
       "    .dataframe thead th {\n",
       "        text-align: right;\n",
       "    }\n",
       "</style>\n",
       "<table border=\"1\" class=\"dataframe\">\n",
       "  <thead>\n",
       "    <tr style=\"text-align: right;\">\n",
       "      <th></th>\n",
       "      <th>Date</th>\n",
       "      <th>Class Level</th>\n",
       "      <th>Time Spent</th>\n",
       "    </tr>\n",
       "  </thead>\n",
       "  <tbody>\n",
       "    <tr>\n",
       "      <th>0</th>\n",
       "      <td>2022-10-24</td>\n",
       "      <td>Upper</td>\n",
       "      <td>2.226844</td>\n",
       "    </tr>\n",
       "    <tr>\n",
       "      <th>1</th>\n",
       "      <td>2022-10-24</td>\n",
       "      <td>Lower</td>\n",
       "      <td>0.085916</td>\n",
       "    </tr>\n",
       "    <tr>\n",
       "      <th>2</th>\n",
       "      <td>2022-10-24</td>\n",
       "      <td>Lower</td>\n",
       "      <td>2.455181</td>\n",
       "    </tr>\n",
       "    <tr>\n",
       "      <th>3</th>\n",
       "      <td>2022-10-24</td>\n",
       "      <td>Upper</td>\n",
       "      <td>0.219084</td>\n",
       "    </tr>\n",
       "    <tr>\n",
       "      <th>4</th>\n",
       "      <td>2022-10-24</td>\n",
       "      <td>Lower</td>\n",
       "      <td>0.623450</td>\n",
       "    </tr>\n",
       "    <tr>\n",
       "      <th>5</th>\n",
       "      <td>2022-10-24</td>\n",
       "      <td>Upper</td>\n",
       "      <td>0.887241</td>\n",
       "    </tr>\n",
       "    <tr>\n",
       "      <th>6</th>\n",
       "      <td>2022-10-24</td>\n",
       "      <td>Lower</td>\n",
       "      <td>1.469291</td>\n",
       "    </tr>\n",
       "    <tr>\n",
       "      <th>7</th>\n",
       "      <td>2022-10-24</td>\n",
       "      <td>Upper</td>\n",
       "      <td>0.340358</td>\n",
       "    </tr>\n",
       "    <tr>\n",
       "      <th>8</th>\n",
       "      <td>2022-10-24</td>\n",
       "      <td>Upper</td>\n",
       "      <td>0.422612</td>\n",
       "    </tr>\n",
       "    <tr>\n",
       "      <th>9</th>\n",
       "      <td>2022-10-24</td>\n",
       "      <td>Lower</td>\n",
       "      <td>1.160892</td>\n",
       "    </tr>\n",
       "  </tbody>\n",
       "</table>\n",
       "</div>"
      ],
      "text/plain": [
       "        Date Class Level  Time Spent\n",
       "0 2022-10-24       Upper    2.226844\n",
       "1 2022-10-24       Lower    0.085916\n",
       "2 2022-10-24       Lower    2.455181\n",
       "3 2022-10-24       Upper    0.219084\n",
       "4 2022-10-24       Lower    0.623450\n",
       "5 2022-10-24       Upper    0.887241\n",
       "6 2022-10-24       Lower    1.469291\n",
       "7 2022-10-24       Upper    0.340358\n",
       "8 2022-10-24       Upper    0.422612\n",
       "9 2022-10-24       Lower    1.160892"
      ]
     },
     "execution_count": 84,
     "metadata": {},
     "output_type": "execute_result"
    }
   ],
   "source": [
    "df = pd.read_excel(\"DATA.xlsx\")\n",
    "df.head(10)"
   ]
  },
  {
   "cell_type": "code",
   "execution_count": 85,
   "id": "bcc669c6",
   "metadata": {},
   "outputs": [
    {
     "data": {
      "text/plain": [
       "0      133.61\n",
       "1        5.15\n",
       "2      147.31\n",
       "3       13.15\n",
       "4       37.41\n",
       "        ...  \n",
       "546    146.68\n",
       "547    138.11\n",
       "548      5.06\n",
       "549    133.46\n",
       "550     68.52\n",
       "Name: Time Spent, Length: 551, dtype: float64"
      ]
     },
     "execution_count": 85,
     "metadata": {},
     "output_type": "execute_result"
    }
   ],
   "source": [
    "Time_min = round(df['Time Spent'] * 60, 2)\n",
    "Time_min"
   ]
  },
  {
   "cell_type": "code",
   "execution_count": 86,
   "id": "dac3c52f",
   "metadata": {},
   "outputs": [
    {
     "data": {
      "text/html": [
       "<div>\n",
       "<style scoped>\n",
       "    .dataframe tbody tr th:only-of-type {\n",
       "        vertical-align: middle;\n",
       "    }\n",
       "\n",
       "    .dataframe tbody tr th {\n",
       "        vertical-align: top;\n",
       "    }\n",
       "\n",
       "    .dataframe thead th {\n",
       "        text-align: right;\n",
       "    }\n",
       "</style>\n",
       "<table border=\"1\" class=\"dataframe\">\n",
       "  <thead>\n",
       "    <tr style=\"text-align: right;\">\n",
       "      <th></th>\n",
       "      <th>Date</th>\n",
       "      <th>Class Level</th>\n",
       "      <th>Time Spent</th>\n",
       "      <th>Time_min</th>\n",
       "    </tr>\n",
       "  </thead>\n",
       "  <tbody>\n",
       "    <tr>\n",
       "      <th>0</th>\n",
       "      <td>2022-10-24</td>\n",
       "      <td>Upper</td>\n",
       "      <td>2.226844</td>\n",
       "      <td>133.61</td>\n",
       "    </tr>\n",
       "    <tr>\n",
       "      <th>1</th>\n",
       "      <td>2022-10-24</td>\n",
       "      <td>Lower</td>\n",
       "      <td>0.085916</td>\n",
       "      <td>5.15</td>\n",
       "    </tr>\n",
       "    <tr>\n",
       "      <th>2</th>\n",
       "      <td>2022-10-24</td>\n",
       "      <td>Lower</td>\n",
       "      <td>2.455181</td>\n",
       "      <td>147.31</td>\n",
       "    </tr>\n",
       "    <tr>\n",
       "      <th>3</th>\n",
       "      <td>2022-10-24</td>\n",
       "      <td>Upper</td>\n",
       "      <td>0.219084</td>\n",
       "      <td>13.15</td>\n",
       "    </tr>\n",
       "    <tr>\n",
       "      <th>4</th>\n",
       "      <td>2022-10-24</td>\n",
       "      <td>Lower</td>\n",
       "      <td>0.623450</td>\n",
       "      <td>37.41</td>\n",
       "    </tr>\n",
       "    <tr>\n",
       "      <th>5</th>\n",
       "      <td>2022-10-24</td>\n",
       "      <td>Upper</td>\n",
       "      <td>0.887241</td>\n",
       "      <td>53.23</td>\n",
       "    </tr>\n",
       "    <tr>\n",
       "      <th>6</th>\n",
       "      <td>2022-10-24</td>\n",
       "      <td>Lower</td>\n",
       "      <td>1.469291</td>\n",
       "      <td>88.16</td>\n",
       "    </tr>\n",
       "    <tr>\n",
       "      <th>7</th>\n",
       "      <td>2022-10-24</td>\n",
       "      <td>Upper</td>\n",
       "      <td>0.340358</td>\n",
       "      <td>20.42</td>\n",
       "    </tr>\n",
       "    <tr>\n",
       "      <th>8</th>\n",
       "      <td>2022-10-24</td>\n",
       "      <td>Upper</td>\n",
       "      <td>0.422612</td>\n",
       "      <td>25.36</td>\n",
       "    </tr>\n",
       "    <tr>\n",
       "      <th>9</th>\n",
       "      <td>2022-10-24</td>\n",
       "      <td>Lower</td>\n",
       "      <td>1.160892</td>\n",
       "      <td>69.65</td>\n",
       "    </tr>\n",
       "  </tbody>\n",
       "</table>\n",
       "</div>"
      ],
      "text/plain": [
       "        Date Class Level  Time Spent  Time_min\n",
       "0 2022-10-24       Upper    2.226844    133.61\n",
       "1 2022-10-24       Lower    0.085916      5.15\n",
       "2 2022-10-24       Lower    2.455181    147.31\n",
       "3 2022-10-24       Upper    0.219084     13.15\n",
       "4 2022-10-24       Lower    0.623450     37.41\n",
       "5 2022-10-24       Upper    0.887241     53.23\n",
       "6 2022-10-24       Lower    1.469291     88.16\n",
       "7 2022-10-24       Upper    0.340358     20.42\n",
       "8 2022-10-24       Upper    0.422612     25.36\n",
       "9 2022-10-24       Lower    1.160892     69.65"
      ]
     },
     "execution_count": 86,
     "metadata": {},
     "output_type": "execute_result"
    }
   ],
   "source": [
    "df['Time_min'] = Time_min\n",
    "df.head(10)"
   ]
  },
  {
   "cell_type": "code",
   "execution_count": 87,
   "id": "ac2692ac",
   "metadata": {},
   "outputs": [
    {
     "data": {
      "text/plain": [
       "0      133.61\n",
       "1        5.15\n",
       "2      147.31\n",
       "3       13.15\n",
       "4       37.41\n",
       "        ...  \n",
       "546    146.68\n",
       "547    138.11\n",
       "548      5.06\n",
       "549    133.46\n",
       "550     68.52\n",
       "Name: Time_min, Length: 551, dtype: float64"
      ]
     },
     "execution_count": 87,
     "metadata": {},
     "output_type": "execute_result"
    }
   ],
   "source": [
    "df['Time_min']"
   ]
  },
  {
   "cell_type": "code",
   "execution_count": 104,
   "id": "2cc3bc39",
   "metadata": {},
   "outputs": [
    {
     "data": {
      "text/plain": [
       "73.87085034013604"
      ]
     },
     "execution_count": 104,
     "metadata": {},
     "output_type": "execute_result"
    }
   ],
   "source": [
    "mean_upper = df.loc[(df['Class Level'] == 'Upper')]\n",
    "mean_upper_mean = mean_upper['Time_min'].mean()\n",
    "mean_upper_mean"
   ]
  },
  {
   "cell_type": "code",
   "execution_count": 105,
   "id": "0eacf207",
   "metadata": {},
   "outputs": [
    {
     "data": {
      "text/plain": [
       "78.40089494163423"
      ]
     },
     "execution_count": 105,
     "metadata": {},
     "output_type": "execute_result"
    }
   ],
   "source": [
    "mean_lower = df.loc[(df['Class Level'] == 'Lower')]\n",
    "mean_lower_mean = mean_lower['Time_min'].mean()\n",
    "mean_lower_mean"
   ]
  },
  {
   "cell_type": "markdown",
   "id": "eb973e97",
   "metadata": {},
   "source": [
    "# Exploratory Data Analysis (EDA)"
   ]
  },
  {
   "cell_type": "code",
   "execution_count": 154,
   "id": "e07d20b0",
   "metadata": {},
   "outputs": [
    {
     "data": {
      "text/plain": [
       "Class Level\n",
       "Lower    257\n",
       "Upper    294\n",
       "Name: Class Level, dtype: int64"
      ]
     },
     "execution_count": 154,
     "metadata": {},
     "output_type": "execute_result"
    }
   ],
   "source": [
    "students = df.groupby('Class Level')['Class Level'].count()\n",
    "students"
   ]
  },
  {
   "cell_type": "code",
   "execution_count": 88,
   "id": "0276c532",
   "metadata": {},
   "outputs": [
    {
     "data": {
      "text/plain": [
       "<seaborn.axisgrid.FacetGrid at 0x7fe601a69100>"
      ]
     },
     "execution_count": 88,
     "metadata": {},
     "output_type": "execute_result"
    },
    {
     "data": {
      "image/png": "[encoded data removed]",
      "text/plain": [
       "<Figure size 360x360 with 1 Axes>"
      ]
     },
     "metadata": {
      "needs_background": "light"
     },
     "output_type": "display_data"
    }
   ],
   "source": [
    "sns.catplot(data=df, x=\"Class Level\", kind=\"count\", palette=\"ch:.25\")"
   ]
  },
  {
   "cell_type": "code",
   "execution_count": 89,
   "id": "3c34ad84",
   "metadata": {},
   "outputs": [
    {
     "data": {
      "text/plain": [
       "<AxesSubplot:xlabel='Date'>"
      ]
     },
     "execution_count": 89,
     "metadata": {},
     "output_type": "execute_result"
    },
    {
     "data": {
      "image/png": "[encoded data removed]",
      "text/plain": [
       "<Figure size 1080x360 with 1 Axes>"
      ]
     },
     "metadata": {
      "needs_background": "light"
     },
     "output_type": "display_data"
    }
   ],
   "source": [
    "data = df.groupby('Date')['Class Level'].count()\n",
    "#data = data.set_index('Date')\n",
    "data.plot(figsize=(15,5))"
   ]
  },
  {
   "cell_type": "code",
   "execution_count": 90,
   "id": "387473a4",
   "metadata": {},
   "outputs": [
    {
     "data": {
      "text/plain": [
       "Date\n",
       "2022-10-24    56\n",
       "2022-10-25    36\n",
       "2022-10-26    33\n",
       "2022-10-27    36\n",
       "2022-10-31    58\n",
       "2022-11-01    33\n",
       "2022-11-02    34\n",
       "2022-11-03    28\n",
       "2022-11-07    27\n",
       "2022-11-08    22\n",
       "2022-11-09    10\n",
       "2022-11-10     8\n",
       "2022-11-14    45\n",
       "2022-11-15    60\n",
       "2022-11-16    44\n",
       "2022-11-17    21\n",
       "Name: Class Level, dtype: int64"
      ]
     },
     "execution_count": 90,
     "metadata": {},
     "output_type": "execute_result"
    }
   ],
   "source": [
    "data"
   ]
  },
  {
   "cell_type": "code",
   "execution_count": 91,
   "id": "7e004b09",
   "metadata": {},
   "outputs": [
    {
     "data": {
      "text/plain": [
       "34.4375"
      ]
     },
     "execution_count": 91,
     "metadata": {},
     "output_type": "execute_result"
    }
   ],
   "source": [
    "mu = data.mean()\n",
    "mu"
   ]
  },
  {
   "cell_type": "markdown",
   "id": "c91f7d45",
   "metadata": {},
   "source": [
    "# Poisson Distribution to model the number of students"
   ]
  },
  {
   "cell_type": "code",
   "execution_count": 92,
   "id": "649f03e4",
   "metadata": {},
   "outputs": [],
   "source": [
    "from scipy.stats import poisson"
   ]
  },
  {
   "cell_type": "code",
   "execution_count": 93,
   "id": "60354ab7",
   "metadata": {},
   "outputs": [
    {
     "data": {
      "image/png": "[encoded data removed]",
      "text/plain": [
       "<Figure size 432x288 with 1 Axes>"
      ]
     },
     "metadata": {
      "needs_background": "light"
     },
     "output_type": "display_data"
    }
   ],
   "source": [
    "k = np.arange(10, 80)\n",
    "pmf = poisson.pmf(k, mu=mu)\n",
    "\n",
    "plt.plot(k, pmf, marker='o')\n",
    "plt.xlabel('k')\n",
    "plt.ylabel('Probability')\n",
    "plt.show()"
   ]
  },
  {
   "cell_type": "markdown",
   "id": "1c9ae992",
   "metadata": {},
   "source": [
    "# Exponential Distribution to model the time spent"
   ]
  },
  {
   "cell_type": "code",
   "execution_count": 94,
   "id": "5fb2d683",
   "metadata": {},
   "outputs": [],
   "source": [
    "from scipy.stats import expon"
   ]
  },
  {
   "cell_type": "code",
   "execution_count": 111,
   "id": "ce160516",
   "metadata": {},
   "outputs": [
    {
     "data": {
      "image/png": "[encoded data removed]",
      "text/plain": [
       "<Figure size 432x288 with 1 Axes>"
      ]
     },
     "metadata": {
      "needs_background": "light"
     },
     "output_type": "display_data"
    }
   ],
   "source": [
    "mean = df['Time_min'].mean()\n",
    "\n",
    "loc = 0\n",
    "\n",
    "xvalues = np.linspace(stats.expon.ppf(0.01, loc, mean), stats.expon.ppf(0.99, loc, mean), 100)\n",
    "pdf = expon.pdf(xvalues, loc, mean)\n",
    "plt.plot(xvalues, pdf)\n",
    "plt.xlabel('Time In Minutes')\n",
    "plt.ylabel('Probability')\n",
    "plt.show()"
   ]
  },
  {
   "cell_type": "code",
   "execution_count": 112,
   "id": "0228e68b",
   "metadata": {},
   "outputs": [
    {
     "data": {
      "text/plain": [
       "75.98377495462786"
      ]
     },
     "execution_count": 112,
     "metadata": {},
     "output_type": "execute_result"
    }
   ],
   "source": [
    "mean"
   ]
  },
  {
   "cell_type": "markdown",
   "id": "3ca55d8c",
   "metadata": {},
   "source": [
    "# Simulation"
   ]
  },
  {
   "cell_type": "code",
   "execution_count": 150,
   "id": "5b002738",
   "metadata": {},
   "outputs": [
    {
     "name": "stdout",
     "output_type": "stream",
     "text": [
      "Mean Upper Queue Wait Time:  0.040149651448587065\n",
      "Mean lower Queue Wait Time:  31.99460380309825\n",
      "Mean registration Queue Wait Time:  0.03973899787176859\n"
     ]
    },
    {
     "data": {
      "text/plain": [
       "(array([47.,  0.,  0.,  0.,  0.,  0.,  0.,  0.,  0.,  1.]),\n",
       " array([0.        , 0.19271833, 0.38543665, 0.57815498, 0.77087331,\n",
       "        0.96359163, 1.15630996, 1.34902829, 1.54174662, 1.73446494,\n",
       "        1.92718327]),\n",
       " <BarContainer object of 10 artists>)"
      ]
     },
     "execution_count": 150,
     "metadata": {},
     "output_type": "execute_result"
    },
    {
     "data": {
      "image/png": "[encoded data removed]",
      "text/plain": [
       "<Figure size 432x288 with 1 Axes>"
      ]
     },
     "metadata": {
      "needs_background": "light"
     },
     "output_type": "display_data"
    }
   ],
   "source": [
    "import matplotlib.pyplot as plt\n",
    "import simpy\n",
    "import random\n",
    "from statistics import mean\n",
    "import numpy as np\n",
    "\n",
    "#the below generator function brings our students into being\n",
    "def student_generator_tutoring(env, tut_inter, mean_reg, mean_session, mean_upper_session, receptionist, upper_tutor, lower_tutor):\n",
    "    tu_id = 0\n",
    "    \n",
    "    while True:\n",
    "        wp = activity_generator_tutoring(env, mean_reg, mean_session, mean_upper_session, receptionist, upper_tutor, lower_tutor, tu_id)\n",
    "        #pass wp to the process of tutoring, defined below\n",
    "        env.process(wp)\n",
    "        #sampling t, time until next students, from exponential distr, lambda = 1/mean\n",
    "        t = random.expovariate(1.0/ tut_inter)\n",
    "        #freeze the process until t time has pased\n",
    "        yield env.timeout(t)\n",
    "        #create next students and then restart while loop\n",
    "        tu_id += 1\n",
    "#the below generator function 'describes/defines' the process by which students will be tutored\n",
    "#they first register with the 'receptionist', and then attend a tutoring session with either an upper level tutor, or lower level tutor,\n",
    "def activity_generator_tutoring(env, mean_reg, mean_session, mean_upper_session, receptionist, upper_tutor, lower_tutor, tu_id):\n",
    "    #recording time students enters the queue\n",
    "    global list_of_registration_queues\n",
    "    global list_of_lower_queues\n",
    "    global list_of_upper_queues\n",
    "    time_entered_queue_for_registration = env.now\n",
    "    #now print 'student __ entered queue at ___ time'\n",
    "    # print(\"student \", tu_id, \" entered  reg queue at \", time_entered_queue_for_registration, sep=\"\")\n",
    "    with receptionist.request() as req:\n",
    "        yield req #wait until tutor is avaliable\n",
    "        time_left_queue_for_registration = env.now\n",
    "        # print(\"student \", tu_id , \"left reg queue  at \", time_left_queue_for_registration, \" minutes\", sep=\"\") \n",
    "        time_in_queue_for_registration = (time_left_queue_for_registration - time_entered_queue_for_registration)\n",
    "        list_of_registration_queues.append(time_in_queue_for_registration)\n",
    "        # print(\"student \" , tu_id, \"queued in reg for \", time_in_queue_for_registration, \" minutes!!!\", sep= \"\" )\n",
    "        sampled_registration_time = random.expovariate(1.0 / mean_reg)\n",
    "        yield env.timeout(sampled_registration_time) \n",
    "    #request tutor from simpy env\n",
    "    decide_class = random.uniform(0,1)\n",
    "    if decide_class < 0.65:\n",
    "        time_entered_queue_for_lower_tutor = env.now\n",
    "        with lower_tutor.request() as req:\n",
    "            yield req #wait until tutor is avaliable\n",
    "            time_left_queue_for_lower_tutor = env.now\n",
    "            # print(\"student\", tu_id, \"left queue at \", time_left_queue_for_lower_tutor, sep = \"\")\n",
    "            time_in_queue_for_lower_tutor = (time_left_queue_for_lower_tutor - time_entered_queue_for_lower_tutor)\n",
    "            # print(\"student \" , tu_id, \"queued for LOWER tutor for \", time_in_queue_for_lower_tutor, \" minutes. !!!\", sep= \"\" )\n",
    "            list_of_lower_queues.append(time_in_queue_for_lower_tutor)\n",
    "            sampled_session_time = random.expovariate(1.0 / mean_session)\n",
    "            yield env.timeout(sampled_session_time) #this freezes the with statement whilst the tutor is busy with a student\n",
    "    else:\n",
    "        time_entered_queue_for_upper_tutor = env.now\n",
    "        with upper_tutor.request() as req1:\n",
    "            yield req1 #wait until tutor is avaliable\n",
    "            time_left_queue_for_upper_tutor = env.now\n",
    "            # print(\"student\", tu_id, \"left queue at \", time_left_queue_for_upper_tutor, sep = \"\")\n",
    "            time_in_queue_for_upper_tutor = (time_left_queue_for_upper_tutor - time_entered_queue_for_upper_tutor)\n",
    "            # print(\"student \" , tu_id, \"queued for UPPER tutor for \", time_in_queue_for_upper_tutor, \" minutes. !!!\", sep= \"\" )\n",
    "            list_of_upper_queues.append(time_in_queue_for_upper_tutor)\n",
    "            sampled_upper_session_time = random.expovariate(1.0 / mean_upper_session)\n",
    "            yield env.timeout(sampled_upper_session_time) #this freezes the with statement whilst the tutor is busy with a student\n",
    "#set up simulation envrionment - env\n",
    "env = simpy.Environment()\n",
    "lower_tutor = simpy.Resource(env, capacity = 4)\n",
    "upper_tutor = simpy.Resource(env, capacity = 1)\n",
    "receptionist = simpy.Resource(env, capacity = 1)\n",
    "\n",
    "mean_reg = 2\n",
    "tut_inter = 76\n",
    "mean_session = mean_lower_mean\n",
    "mean_upper_session = mean_upper_mean\n",
    "#mean_reg is mean time that registration takes ... currently 1 minute\n",
    "#mean_session is the mean time that a tutoring session takes, currently 29 minutes, a single tutor can handle 2 students\n",
    "#tut_inter is the mean time interval that students enter the tutoring center\n",
    "list_of_registration_queues = []\n",
    "list_of_upper_queues = []\n",
    "list_of_lower_queues = []\n",
    "\n",
    "env.process(student_generator_tutoring(env, tut_inter, mean_reg, mean_session, mean_upper_session, receptionist, lower_tutor, upper_tutor))     \n",
    "env.run(until=10000)\n",
    "\n",
    "mean_upper_q = mean(list_of_upper_queues)\n",
    "mean_reg_q = mean(list_of_registration_queues)\n",
    "mean_lower_q = mean(list_of_lower_queues)\n",
    "\n",
    "print(\"Mean Upper Queue Wait Time: \" , mean_upper_q)\n",
    "print(\"Mean lower Queue Wait Time: \" , mean_lower_q)\n",
    "print(\"Mean registration Queue Wait Time: \" , mean_reg_q)\n",
    "\n",
    "plt.hist(list_of_upper_queues)"
   ]
  },
  {
   "cell_type": "code",
   "execution_count": 151,
   "id": "2f4ea8a3",
   "metadata": {},
   "outputs": [
    {
     "data": {
      "text/plain": [
       "(array([131.,   1.,   0.,   0.,   0.,   0.,   0.,   0.,   0.,   1.]),\n",
       " array([0.        , 0.41817392, 0.83634784, 1.25452176, 1.67269569,\n",
       "        2.09086961, 2.50904353, 2.92721745, 3.34539137, 3.76356529,\n",
       "        4.18173921]),\n",
       " <BarContainer object of 10 artists>)"
      ]
     },
     "execution_count": 151,
     "metadata": {},
     "output_type": "execute_result"
    },
    {
     "data": {
      "image/png": "[encoded data removed]",
      "text/plain": [
       "<Figure size 432x288 with 1 Axes>"
      ]
     },
     "metadata": {
      "needs_background": "light"
     },
     "output_type": "display_data"
    }
   ],
   "source": [
    "plt.hist(list_of_registration_queues)"
   ]
  },
  {
   "cell_type": "code",
   "execution_count": 152,
   "id": "c12282b3",
   "metadata": {},
   "outputs": [
    {
     "data": {
      "text/plain": [
       "(array([54.,  8., 10.,  7.,  2.,  0.,  0.,  0.,  0.,  1.]),\n",
       " array([  0.        ,  31.88808609,  63.77617218,  95.66425826,\n",
       "        127.55234435, 159.44043044, 191.32851653, 223.21660261,\n",
       "        255.1046887 , 286.99277479, 318.88086088]),\n",
       " <BarContainer object of 10 artists>)"
      ]
     },
     "execution_count": 152,
     "metadata": {},
     "output_type": "execute_result"
    },
    {
     "data": {
      "image/png": "[encoded data removed]",
      "text/plain": [
       "<Figure size 432x288 with 1 Axes>"
      ]
     },
     "metadata": {
      "needs_background": "light"
     },
     "output_type": "display_data"
    }
   ],
   "source": [
    "plt.hist(list_of_lower_queues)"
   ]
  },
  {
   "cell_type": "code",
   "execution_count": null,
   "id": "e4df6411",
   "metadata": {},
   "outputs": [],
   "source": []
  }
 ],
 "metadata": {
  "kernelspec": {
   "display_name": "Python 3.10.7 64-bit",
   "language": "python",
   "name": "python3"
  },
  "language_info": {
   "codemirror_mode": {
    "name": "ipython",
    "version": 3
   },
   "file_extension": ".py",
   "mimetype": "text/x-python",
   "name": "python",
   "nbconvert_exporter": "python",
   "pygments_lexer": "ipython3",
   "version": "3.10.7"
  },
  "vscode": {
   "interpreter": {
    "hash": "80315c1ee4e6a564eb9d2c0e64ec339ad10fcba75b330ae4d06a5075f1c55df0"
   }
  }
 },
 "nbformat": 4,
 "nbformat_minor": 5
}
